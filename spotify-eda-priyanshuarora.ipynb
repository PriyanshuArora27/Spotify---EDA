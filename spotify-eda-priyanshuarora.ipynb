{
 "cells": [
  {
   "cell_type": "markdown",
   "metadata": {
    "id": "C9v6YF7Aj0UJ"
   },
   "source": [
    "<img src=\"https://storage.googleapis.com/pr-newsroom-wp/1/2018/11/Spotify_Logo_CMYK_Green.png\">"
   ]
  },
  {
   "cell_type": "markdown",
   "metadata": {
    "id": "PuVwVHnSj0UO"
   },
   "source": [
    "# spotify-eda-priyanshuarora\n",
    "Spotify is one of the biggest music streaming platform and it has millions of users across the globe, these users have  different preferences different usage and they all listen to different artists but also these people who have same preferences and listen to same artists so there is huge scope to scrap out different kinds of information and results from the data of these millions of users.\n",
    "\n",
    "The datasets can be found on the links - https://www.kaggle.com/datasets/zaheenhamidani/ultimate-spotify-tracks-db\n",
    "                                         https://www.kaggle.com/datasets/lehaknarnauli/spotify-datasets?select=artists.csv\n",
    "                                         \n",
    "This analysis is part of the course Data Analysis with Python: Zero to Pandas. This course starts with entry level Python programming and is thus available for everyone. The lessons are clearly explained and there is a wide community of people to help answer questions. Great thanks to Jovian for the (free) high quality lessons.                                        \n",
    "\n",
    "\n",
    "Use the \"Run\" button to execute the code."
   ]
  },
  {
   "cell_type": "code",
   "execution_count": 1,
   "metadata": {
    "id": "-tIkSPFCj0UP"
   },
   "outputs": [],
   "source": [
    "import numpy as np\n",
    "import pandas as pd\n",
    "import matplotlib.pyplot as plt\n",
    "import seaborn as sns"
   ]
  },
  {
   "cell_type": "markdown",
   "metadata": {
    "id": "4rNc-bPEj0UR"
   },
   "source": [
    "# Downloading Datasets"
   ]
  },
  {
   "cell_type": "markdown",
   "metadata": {
    "id": "Ua_88bDYj0UR"
   },
   "source": [
    "Opendatasets is used to download all the datasets. Let's start by installing this library."
   ]
  },
  {
   "cell_type": "code",
   "execution_count": 2,
   "metadata": {
    "id": "NHlSdC3Cj0US"
   },
   "outputs": [],
   "source": [
    "!pip install jovian opendatasets --upgrade --quiet"
   ]
  },
  {
   "cell_type": "code",
   "execution_count": 3,
   "metadata": {
    "id": "K2su0i2lj0US"
   },
   "outputs": [],
   "source": [
    "dataset_url='https://www.kaggle.com/datasets/zaheenhamidani/ultimate-spotify-tracks-db'"
   ]
  },
  {
   "cell_type": "markdown",
   "metadata": {
    "id": "PfkEDoKlj0UT"
   },
   "source": [
    "Let's begin by downloading the data, and listing the files within the dataset."
   ]
  },
  {
   "cell_type": "code",
   "execution_count": 4,
   "metadata": {
    "id": "UNFSQob3j0UU"
   },
   "outputs": [
    {
     "name": "stdout",
     "output_type": "stream",
     "text": [
      "Skipping, found downloaded files in \"./ultimate-spotify-tracks-db\" (use force=True to force download)\n"
     ]
    }
   ],
   "source": [
    "import opendatasets as od\n",
    "od.download(dataset_url)"
   ]
  },
  {
   "cell_type": "code",
   "execution_count": 5,
   "metadata": {
    "id": "f4UhjQl7j0UV"
   },
   "outputs": [
    {
     "name": "stdout",
     "output_type": "stream",
     "text": [
      "Skipping, found downloaded files in \"./spotify-datasets\" (use force=True to force download)\n"
     ]
    }
   ],
   "source": [
    "od.download('https://www.kaggle.com/datasets/lehaknarnauli/spotify-datasets?select=artists.csv')"
   ]
  },
  {
   "cell_type": "code",
   "execution_count": 6,
   "metadata": {
    "id": "DDGcSlSdj0UW"
   },
   "outputs": [
    {
     "name": "stdout",
     "output_type": "stream",
     "text": [
      "Skipping, found downloaded files in \"./spotify-datasets\" (use force=True to force download)\n"
     ]
    }
   ],
   "source": [
    "od.download('https://www.kaggle.com/datasets/lehaknarnauli/spotify-datasets?select=tracks.csv')"
   ]
  },
  {
   "cell_type": "markdown",
   "metadata": {
    "id": "j7kizClZj0UX"
   },
   "source": [
    "# Data prepration and cleaning"
   ]
  },
  {
   "cell_type": "code",
   "execution_count": 7,
   "metadata": {
    "id": "FGro6ROCj0UX"
   },
   "outputs": [],
   "source": [
    "df_tracks=pd.read_csv('spotify-datasets/tracks.csv')"
   ]
  },
  {
   "cell_type": "code",
   "execution_count": 8,
   "metadata": {
    "colab": {
     "base_uri": "https://localhost:8080/",
     "height": 374
    },
    "executionInfo": {
     "elapsed": 12,
     "status": "ok",
     "timestamp": 1675097315015,
     "user": {
      "displayName": "Priyanshu Arora",
      "userId": "06663386538292336269"
     },
     "user_tz": -330
    },
    "id": "cfRj6xT-j0UY",
    "outputId": "95948733-b4c5-40ba-ae89-805968112c8f"
   },
   "outputs": [
    {
     "data": {
      "text/html": [
       "<div>\n",
       "<style scoped>\n",
       "    .dataframe tbody tr th:only-of-type {\n",
       "        vertical-align: middle;\n",
       "    }\n",
       "\n",
       "    .dataframe tbody tr th {\n",
       "        vertical-align: top;\n",
       "    }\n",
       "\n",
       "    .dataframe thead th {\n",
       "        text-align: right;\n",
       "    }\n",
       "</style>\n",
       "<table border=\"1\" class=\"dataframe\">\n",
       "  <thead>\n",
       "    <tr style=\"text-align: right;\">\n",
       "      <th></th>\n",
       "      <th>id</th>\n",
       "      <th>name</th>\n",
       "      <th>popularity</th>\n",
       "      <th>duration_ms</th>\n",
       "      <th>explicit</th>\n",
       "      <th>artists</th>\n",
       "      <th>id_artists</th>\n",
       "      <th>release_date</th>\n",
       "      <th>danceability</th>\n",
       "      <th>energy</th>\n",
       "      <th>key</th>\n",
       "      <th>loudness</th>\n",
       "      <th>mode</th>\n",
       "      <th>speechiness</th>\n",
       "      <th>acousticness</th>\n",
       "      <th>instrumentalness</th>\n",
       "      <th>liveness</th>\n",
       "      <th>valence</th>\n",
       "      <th>tempo</th>\n",
       "      <th>time_signature</th>\n",
       "    </tr>\n",
       "  </thead>\n",
       "  <tbody>\n",
       "    <tr>\n",
       "      <th>0</th>\n",
       "      <td>35iwgR4jXetI318WEWsa1Q</td>\n",
       "      <td>Carve</td>\n",
       "      <td>6</td>\n",
       "      <td>126903</td>\n",
       "      <td>0</td>\n",
       "      <td>['Uli']</td>\n",
       "      <td>['45tIt06XoI0Iio4LBEVpls']</td>\n",
       "      <td>1922-02-22</td>\n",
       "      <td>0.645</td>\n",
       "      <td>0.4450</td>\n",
       "      <td>0</td>\n",
       "      <td>-13.338</td>\n",
       "      <td>1</td>\n",
       "      <td>0.4510</td>\n",
       "      <td>0.674</td>\n",
       "      <td>0.7440</td>\n",
       "      <td>0.151</td>\n",
       "      <td>0.127</td>\n",
       "      <td>104.851</td>\n",
       "      <td>3</td>\n",
       "    </tr>\n",
       "    <tr>\n",
       "      <th>1</th>\n",
       "      <td>021ht4sdgPcrDgSk7JTbKY</td>\n",
       "      <td>Capítulo 2.16 - Banquero Anarquista</td>\n",
       "      <td>0</td>\n",
       "      <td>98200</td>\n",
       "      <td>0</td>\n",
       "      <td>['Fernando Pessoa']</td>\n",
       "      <td>['14jtPCOoNZwquk5wd9DxrY']</td>\n",
       "      <td>1922-06-01</td>\n",
       "      <td>0.695</td>\n",
       "      <td>0.2630</td>\n",
       "      <td>0</td>\n",
       "      <td>-22.136</td>\n",
       "      <td>1</td>\n",
       "      <td>0.9570</td>\n",
       "      <td>0.797</td>\n",
       "      <td>0.0000</td>\n",
       "      <td>0.148</td>\n",
       "      <td>0.655</td>\n",
       "      <td>102.009</td>\n",
       "      <td>1</td>\n",
       "    </tr>\n",
       "    <tr>\n",
       "      <th>2</th>\n",
       "      <td>07A5yehtSnoedViJAZkNnc</td>\n",
       "      <td>Vivo para Quererte - Remasterizado</td>\n",
       "      <td>0</td>\n",
       "      <td>181640</td>\n",
       "      <td>0</td>\n",
       "      <td>['Ignacio Corsini']</td>\n",
       "      <td>['5LiOoJbxVSAMkBS2fUm3X2']</td>\n",
       "      <td>1922-03-21</td>\n",
       "      <td>0.434</td>\n",
       "      <td>0.1770</td>\n",
       "      <td>1</td>\n",
       "      <td>-21.180</td>\n",
       "      <td>1</td>\n",
       "      <td>0.0512</td>\n",
       "      <td>0.994</td>\n",
       "      <td>0.0218</td>\n",
       "      <td>0.212</td>\n",
       "      <td>0.457</td>\n",
       "      <td>130.418</td>\n",
       "      <td>5</td>\n",
       "    </tr>\n",
       "    <tr>\n",
       "      <th>3</th>\n",
       "      <td>08FmqUhxtyLTn6pAh6bk45</td>\n",
       "      <td>El Prisionero - Remasterizado</td>\n",
       "      <td>0</td>\n",
       "      <td>176907</td>\n",
       "      <td>0</td>\n",
       "      <td>['Ignacio Corsini']</td>\n",
       "      <td>['5LiOoJbxVSAMkBS2fUm3X2']</td>\n",
       "      <td>1922-03-21</td>\n",
       "      <td>0.321</td>\n",
       "      <td>0.0946</td>\n",
       "      <td>7</td>\n",
       "      <td>-27.961</td>\n",
       "      <td>1</td>\n",
       "      <td>0.0504</td>\n",
       "      <td>0.995</td>\n",
       "      <td>0.9180</td>\n",
       "      <td>0.104</td>\n",
       "      <td>0.397</td>\n",
       "      <td>169.980</td>\n",
       "      <td>3</td>\n",
       "    </tr>\n",
       "    <tr>\n",
       "      <th>4</th>\n",
       "      <td>08y9GfoqCWfOGsKdwojr5e</td>\n",
       "      <td>Lady of the Evening</td>\n",
       "      <td>0</td>\n",
       "      <td>163080</td>\n",
       "      <td>0</td>\n",
       "      <td>['Dick Haymes']</td>\n",
       "      <td>['3BiJGZsyX9sJchTqcSA7Su']</td>\n",
       "      <td>1922</td>\n",
       "      <td>0.402</td>\n",
       "      <td>0.1580</td>\n",
       "      <td>3</td>\n",
       "      <td>-16.900</td>\n",
       "      <td>0</td>\n",
       "      <td>0.0390</td>\n",
       "      <td>0.989</td>\n",
       "      <td>0.1300</td>\n",
       "      <td>0.311</td>\n",
       "      <td>0.196</td>\n",
       "      <td>103.220</td>\n",
       "      <td>4</td>\n",
       "    </tr>\n",
       "  </tbody>\n",
       "</table>\n",
       "</div>"
      ],
      "text/plain": [
       "                       id                                 name  popularity  \\\n",
       "0  35iwgR4jXetI318WEWsa1Q                                Carve           6   \n",
       "1  021ht4sdgPcrDgSk7JTbKY  Capítulo 2.16 - Banquero Anarquista           0   \n",
       "2  07A5yehtSnoedViJAZkNnc   Vivo para Quererte - Remasterizado           0   \n",
       "3  08FmqUhxtyLTn6pAh6bk45        El Prisionero - Remasterizado           0   \n",
       "4  08y9GfoqCWfOGsKdwojr5e                  Lady of the Evening           0   \n",
       "\n",
       "   duration_ms  explicit              artists                  id_artists  \\\n",
       "0       126903         0              ['Uli']  ['45tIt06XoI0Iio4LBEVpls']   \n",
       "1        98200         0  ['Fernando Pessoa']  ['14jtPCOoNZwquk5wd9DxrY']   \n",
       "2       181640         0  ['Ignacio Corsini']  ['5LiOoJbxVSAMkBS2fUm3X2']   \n",
       "3       176907         0  ['Ignacio Corsini']  ['5LiOoJbxVSAMkBS2fUm3X2']   \n",
       "4       163080         0      ['Dick Haymes']  ['3BiJGZsyX9sJchTqcSA7Su']   \n",
       "\n",
       "  release_date  danceability  energy  key  loudness  mode  speechiness  \\\n",
       "0   1922-02-22         0.645  0.4450    0   -13.338     1       0.4510   \n",
       "1   1922-06-01         0.695  0.2630    0   -22.136     1       0.9570   \n",
       "2   1922-03-21         0.434  0.1770    1   -21.180     1       0.0512   \n",
       "3   1922-03-21         0.321  0.0946    7   -27.961     1       0.0504   \n",
       "4         1922         0.402  0.1580    3   -16.900     0       0.0390   \n",
       "\n",
       "   acousticness  instrumentalness  liveness  valence    tempo  time_signature  \n",
       "0         0.674            0.7440     0.151    0.127  104.851               3  \n",
       "1         0.797            0.0000     0.148    0.655  102.009               1  \n",
       "2         0.994            0.0218     0.212    0.457  130.418               5  \n",
       "3         0.995            0.9180     0.104    0.397  169.980               3  \n",
       "4         0.989            0.1300     0.311    0.196  103.220               4  "
      ]
     },
     "execution_count": 8,
     "metadata": {},
     "output_type": "execute_result"
    }
   ],
   "source": [
    "df_tracks.head()"
   ]
  },
  {
   "cell_type": "markdown",
   "metadata": {
    "id": "7NCugloRj0UY"
   },
   "source": [
    "#### Finding all the null values"
   ]
  },
  {
   "cell_type": "code",
   "execution_count": 9,
   "metadata": {
    "colab": {
     "base_uri": "https://localhost:8080/"
    },
    "executionInfo": {
     "elapsed": 419,
     "status": "ok",
     "timestamp": 1675097317779,
     "user": {
      "displayName": "Priyanshu Arora",
      "userId": "06663386538292336269"
     },
     "user_tz": -330
    },
    "id": "BDenH_xoj0UY",
    "outputId": "b53d7504-7c84-4108-94c4-2bd61f0fa72a"
   },
   "outputs": [
    {
     "data": {
      "text/plain": [
       "id                   0\n",
       "name                71\n",
       "popularity           0\n",
       "duration_ms          0\n",
       "explicit             0\n",
       "artists              0\n",
       "id_artists           0\n",
       "release_date         0\n",
       "danceability         0\n",
       "energy               0\n",
       "key                  0\n",
       "loudness             0\n",
       "mode                 0\n",
       "speechiness          0\n",
       "acousticness         0\n",
       "instrumentalness     0\n",
       "liveness             0\n",
       "valence              0\n",
       "tempo                0\n",
       "time_signature       0\n",
       "dtype: int64"
      ]
     },
     "execution_count": 9,
     "metadata": {},
     "output_type": "execute_result"
    }
   ],
   "source": [
    "# null value\n",
    "pd.isnull(df_tracks).sum()\n",
    "\n",
    "\n",
    "\n"
   ]
  },
  {
   "cell_type": "markdown",
   "metadata": {
    "id": "-Yj9OkPcj0UY"
   },
   "source": [
    "Finding out the information about the tracks"
   ]
  },
  {
   "cell_type": "code",
   "execution_count": 10,
   "metadata": {
    "colab": {
     "base_uri": "https://localhost:8080/"
    },
    "executionInfo": {
     "elapsed": 1663,
     "status": "ok",
     "timestamp": 1675097345477,
     "user": {
      "displayName": "Priyanshu Arora",
      "userId": "06663386538292336269"
     },
     "user_tz": -330
    },
    "id": "ebwhHZuYj0UZ",
    "outputId": "63019139-bd74-4665-8749-1ddb3a7eb43a"
   },
   "outputs": [
    {
     "name": "stdout",
     "output_type": "stream",
     "text": [
      "<class 'pandas.core.frame.DataFrame'>\n",
      "RangeIndex: 586672 entries, 0 to 586671\n",
      "Data columns (total 20 columns):\n",
      " #   Column            Non-Null Count   Dtype  \n",
      "---  ------            --------------   -----  \n",
      " 0   id                586672 non-null  object \n",
      " 1   name              586601 non-null  object \n",
      " 2   popularity        586672 non-null  int64  \n",
      " 3   duration_ms       586672 non-null  int64  \n",
      " 4   explicit          586672 non-null  int64  \n",
      " 5   artists           586672 non-null  object \n",
      " 6   id_artists        586672 non-null  object \n",
      " 7   release_date      586672 non-null  object \n",
      " 8   danceability      586672 non-null  float64\n",
      " 9   energy            586672 non-null  float64\n",
      " 10  key               586672 non-null  int64  \n",
      " 11  loudness          586672 non-null  float64\n",
      " 12  mode              586672 non-null  int64  \n",
      " 13  speechiness       586672 non-null  float64\n",
      " 14  acousticness      586672 non-null  float64\n",
      " 15  instrumentalness  586672 non-null  float64\n",
      " 16  liveness          586672 non-null  float64\n",
      " 17  valence           586672 non-null  float64\n",
      " 18  tempo             586672 non-null  float64\n",
      " 19  time_signature    586672 non-null  int64  \n",
      "dtypes: float64(9), int64(6), object(5)\n",
      "memory usage: 89.5+ MB\n"
     ]
    }
   ],
   "source": [
    "df_tracks.info()"
   ]
  },
  {
   "cell_type": "markdown",
   "metadata": {
    "id": "pRAtNd-sj0UZ"
   },
   "source": [
    "## Q. Which are 10 least popular songs?\n"
   ]
  },
  {
   "cell_type": "code",
   "execution_count": 11,
   "metadata": {
    "colab": {
     "base_uri": "https://localhost:8080/",
     "height": 930
    },
    "executionInfo": {
     "elapsed": 11,
     "status": "ok",
     "timestamp": 1675097350290,
     "user": {
      "displayName": "Priyanshu Arora",
      "userId": "06663386538292336269"
     },
     "user_tz": -330
    },
    "id": "cHDNqu9Pj0UZ",
    "outputId": "d717758d-0c4c-424e-97a2-92ee3cc9f06a"
   },
   "outputs": [
    {
     "data": {
      "text/html": [
       "<div>\n",
       "<style scoped>\n",
       "    .dataframe tbody tr th:only-of-type {\n",
       "        vertical-align: middle;\n",
       "    }\n",
       "\n",
       "    .dataframe tbody tr th {\n",
       "        vertical-align: top;\n",
       "    }\n",
       "\n",
       "    .dataframe thead th {\n",
       "        text-align: right;\n",
       "    }\n",
       "</style>\n",
       "<table border=\"1\" class=\"dataframe\">\n",
       "  <thead>\n",
       "    <tr style=\"text-align: right;\">\n",
       "      <th></th>\n",
       "      <th>id</th>\n",
       "      <th>name</th>\n",
       "      <th>popularity</th>\n",
       "      <th>duration_ms</th>\n",
       "      <th>explicit</th>\n",
       "      <th>artists</th>\n",
       "      <th>id_artists</th>\n",
       "      <th>release_date</th>\n",
       "      <th>danceability</th>\n",
       "      <th>energy</th>\n",
       "      <th>key</th>\n",
       "      <th>loudness</th>\n",
       "      <th>mode</th>\n",
       "      <th>speechiness</th>\n",
       "      <th>acousticness</th>\n",
       "      <th>instrumentalness</th>\n",
       "      <th>liveness</th>\n",
       "      <th>valence</th>\n",
       "      <th>tempo</th>\n",
       "      <th>time_signature</th>\n",
       "    </tr>\n",
       "  </thead>\n",
       "  <tbody>\n",
       "    <tr>\n",
       "      <th>546130</th>\n",
       "      <td>181rTRhCcggZPwP2TUcVqm</td>\n",
       "      <td>Newspaper Reports On Abner, 20 February 1935</td>\n",
       "      <td>0</td>\n",
       "      <td>896575</td>\n",
       "      <td>0</td>\n",
       "      <td>['Norris Goff', 'Chester Lauck', 'Carlton Bric...</td>\n",
       "      <td>['3WCwCPDMpGzrt0Qz6quumy', '7vk8UqABg0Sga78GI3...</td>\n",
       "      <td>1935-02-20</td>\n",
       "      <td>0.595</td>\n",
       "      <td>0.262</td>\n",
       "      <td>8</td>\n",
       "      <td>-17.746</td>\n",
       "      <td>1</td>\n",
       "      <td>0.9320</td>\n",
       "      <td>0.993</td>\n",
       "      <td>0.007510</td>\n",
       "      <td>0.0991</td>\n",
       "      <td>0.320</td>\n",
       "      <td>79.849</td>\n",
       "      <td>4</td>\n",
       "    </tr>\n",
       "    <tr>\n",
       "      <th>546222</th>\n",
       "      <td>0yOCz3V5KMm8l1T8EFc60i</td>\n",
       "      <td>恋は水の上で</td>\n",
       "      <td>0</td>\n",
       "      <td>188440</td>\n",
       "      <td>0</td>\n",
       "      <td>['Hibari Misora']</td>\n",
       "      <td>['1m5pMY5blqJwdxJ7vqQtuN']</td>\n",
       "      <td>1949</td>\n",
       "      <td>0.418</td>\n",
       "      <td>0.388</td>\n",
       "      <td>0</td>\n",
       "      <td>-8.580</td>\n",
       "      <td>1</td>\n",
       "      <td>0.0358</td>\n",
       "      <td>0.925</td>\n",
       "      <td>0.000014</td>\n",
       "      <td>0.1050</td>\n",
       "      <td>0.439</td>\n",
       "      <td>94.549</td>\n",
       "      <td>4</td>\n",
       "    </tr>\n",
       "    <tr>\n",
       "      <th>546221</th>\n",
       "      <td>0y48Hhwe52099UqYjegRCO</td>\n",
       "      <td>私の誕生日</td>\n",
       "      <td>0</td>\n",
       "      <td>173467</td>\n",
       "      <td>0</td>\n",
       "      <td>['Hibari Misora']</td>\n",
       "      <td>['1m5pMY5blqJwdxJ7vqQtuN']</td>\n",
       "      <td>1949</td>\n",
       "      <td>0.642</td>\n",
       "      <td>0.178</td>\n",
       "      <td>5</td>\n",
       "      <td>-11.700</td>\n",
       "      <td>1</td>\n",
       "      <td>0.0501</td>\n",
       "      <td>0.993</td>\n",
       "      <td>0.000943</td>\n",
       "      <td>0.0928</td>\n",
       "      <td>0.715</td>\n",
       "      <td>119.013</td>\n",
       "      <td>4</td>\n",
       "    </tr>\n",
       "    <tr>\n",
       "      <th>546220</th>\n",
       "      <td>0xCmgtf9ka07hkZg3D6PaV</td>\n",
       "      <td>エル・チョクロ (EL CHOCLO)</td>\n",
       "      <td>0</td>\n",
       "      <td>205280</td>\n",
       "      <td>0</td>\n",
       "      <td>['Hibari Misora']</td>\n",
       "      <td>['1m5pMY5blqJwdxJ7vqQtuN']</td>\n",
       "      <td>1949</td>\n",
       "      <td>0.695</td>\n",
       "      <td>0.467</td>\n",
       "      <td>0</td>\n",
       "      <td>-12.236</td>\n",
       "      <td>0</td>\n",
       "      <td>0.0422</td>\n",
       "      <td>0.827</td>\n",
       "      <td>0.000000</td>\n",
       "      <td>0.0861</td>\n",
       "      <td>0.756</td>\n",
       "      <td>125.941</td>\n",
       "      <td>4</td>\n",
       "    </tr>\n",
       "    <tr>\n",
       "      <th>546219</th>\n",
       "      <td>0tBXS3VuCPX7KWUFH2nros</td>\n",
       "      <td>恋は不思議なもの</td>\n",
       "      <td>0</td>\n",
       "      <td>185733</td>\n",
       "      <td>0</td>\n",
       "      <td>['Hibari Misora']</td>\n",
       "      <td>['1m5pMY5blqJwdxJ7vqQtuN']</td>\n",
       "      <td>1949</td>\n",
       "      <td>0.389</td>\n",
       "      <td>0.388</td>\n",
       "      <td>2</td>\n",
       "      <td>-8.221</td>\n",
       "      <td>1</td>\n",
       "      <td>0.0351</td>\n",
       "      <td>0.869</td>\n",
       "      <td>0.000000</td>\n",
       "      <td>0.0924</td>\n",
       "      <td>0.372</td>\n",
       "      <td>72.800</td>\n",
       "      <td>4</td>\n",
       "    </tr>\n",
       "    <tr>\n",
       "      <th>546218</th>\n",
       "      <td>0qrKnQtYDVJhKFAXTHYVS9</td>\n",
       "      <td>ゆうべはどうしたの (WHATSA MALLA U)</td>\n",
       "      <td>0</td>\n",
       "      <td>183427</td>\n",
       "      <td>0</td>\n",
       "      <td>['Hibari Misora']</td>\n",
       "      <td>['1m5pMY5blqJwdxJ7vqQtuN']</td>\n",
       "      <td>1949</td>\n",
       "      <td>0.631</td>\n",
       "      <td>0.249</td>\n",
       "      <td>5</td>\n",
       "      <td>-11.883</td>\n",
       "      <td>1</td>\n",
       "      <td>0.0355</td>\n",
       "      <td>0.951</td>\n",
       "      <td>0.000000</td>\n",
       "      <td>0.0814</td>\n",
       "      <td>0.517</td>\n",
       "      <td>131.097</td>\n",
       "      <td>4</td>\n",
       "    </tr>\n",
       "    <tr>\n",
       "      <th>546217</th>\n",
       "      <td>0nqsDxOeKSwEzp3AUQAAqS</td>\n",
       "      <td>Screen Director's Playhouse, Music For Million...</td>\n",
       "      <td>0</td>\n",
       "      <td>1767071</td>\n",
       "      <td>0</td>\n",
       "      <td>['Wilms Herbert', 'June Allyson', 'Joseph Kear...</td>\n",
       "      <td>['2rbm8QWvmnVwxFo84EVM1h', '4yW5adMgyIfHFzaL9i...</td>\n",
       "      <td>1949-04-10</td>\n",
       "      <td>0.533</td>\n",
       "      <td>0.317</td>\n",
       "      <td>7</td>\n",
       "      <td>-13.047</td>\n",
       "      <td>1</td>\n",
       "      <td>0.9180</td>\n",
       "      <td>0.682</td>\n",
       "      <td>0.000000</td>\n",
       "      <td>0.3330</td>\n",
       "      <td>0.336</td>\n",
       "      <td>76.836</td>\n",
       "      <td>4</td>\n",
       "    </tr>\n",
       "    <tr>\n",
       "      <th>546216</th>\n",
       "      <td>0kGEdsxVLYjCdfxM9tbezd</td>\n",
       "      <td>ブルーマンボ</td>\n",
       "      <td>0</td>\n",
       "      <td>162147</td>\n",
       "      <td>0</td>\n",
       "      <td>['Hibari Misora']</td>\n",
       "      <td>['1m5pMY5blqJwdxJ7vqQtuN']</td>\n",
       "      <td>1949</td>\n",
       "      <td>0.529</td>\n",
       "      <td>0.546</td>\n",
       "      <td>0</td>\n",
       "      <td>-6.462</td>\n",
       "      <td>0</td>\n",
       "      <td>0.0418</td>\n",
       "      <td>0.784</td>\n",
       "      <td>0.000000</td>\n",
       "      <td>0.3750</td>\n",
       "      <td>0.903</td>\n",
       "      <td>128.604</td>\n",
       "      <td>4</td>\n",
       "    </tr>\n",
       "    <tr>\n",
       "      <th>546215</th>\n",
       "      <td>0bc3PUZurUUXrY7yqoOxjq</td>\n",
       "      <td>Screen Director's Playhouse, Trade Winds direc...</td>\n",
       "      <td>0</td>\n",
       "      <td>1776652</td>\n",
       "      <td>0</td>\n",
       "      <td>['Wally Maher', 'Tay Garnett', 'Lurene Tuttle'...</td>\n",
       "      <td>['7hkhJTTI3VnUGVWUt8SJXT', '3kYeeIpRCgJz4fQYDv...</td>\n",
       "      <td>1949-05-19</td>\n",
       "      <td>0.599</td>\n",
       "      <td>0.321</td>\n",
       "      <td>0</td>\n",
       "      <td>-15.428</td>\n",
       "      <td>0</td>\n",
       "      <td>0.9330</td>\n",
       "      <td>0.808</td>\n",
       "      <td>0.000000</td>\n",
       "      <td>0.5570</td>\n",
       "      <td>0.379</td>\n",
       "      <td>93.025</td>\n",
       "      <td>4</td>\n",
       "    </tr>\n",
       "    <tr>\n",
       "      <th>546214</th>\n",
       "      <td>0Wwm0ruSjYMIiWG0nyAI1F</td>\n",
       "      <td>Screen Director's Playhouse, It's A Wonderful ...</td>\n",
       "      <td>0</td>\n",
       "      <td>1767576</td>\n",
       "      <td>0</td>\n",
       "      <td>['Joseph Granby', 'Jimmy Stewart', 'Irene Tedr...</td>\n",
       "      <td>['6GK59BC4LJzqR0OpHAX2S3', '58BzBaExrnrx898sby...</td>\n",
       "      <td>1949-05-08</td>\n",
       "      <td>0.645</td>\n",
       "      <td>0.341</td>\n",
       "      <td>8</td>\n",
       "      <td>-12.177</td>\n",
       "      <td>1</td>\n",
       "      <td>0.8670</td>\n",
       "      <td>0.690</td>\n",
       "      <td>0.000000</td>\n",
       "      <td>0.1530</td>\n",
       "      <td>0.431</td>\n",
       "      <td>117.591</td>\n",
       "      <td>4</td>\n",
       "    </tr>\n",
       "  </tbody>\n",
       "</table>\n",
       "</div>"
      ],
      "text/plain": [
       "                            id  \\\n",
       "546130  181rTRhCcggZPwP2TUcVqm   \n",
       "546222  0yOCz3V5KMm8l1T8EFc60i   \n",
       "546221  0y48Hhwe52099UqYjegRCO   \n",
       "546220  0xCmgtf9ka07hkZg3D6PaV   \n",
       "546219  0tBXS3VuCPX7KWUFH2nros   \n",
       "546218  0qrKnQtYDVJhKFAXTHYVS9   \n",
       "546217  0nqsDxOeKSwEzp3AUQAAqS   \n",
       "546216  0kGEdsxVLYjCdfxM9tbezd   \n",
       "546215  0bc3PUZurUUXrY7yqoOxjq   \n",
       "546214  0Wwm0ruSjYMIiWG0nyAI1F   \n",
       "\n",
       "                                                     name  popularity  \\\n",
       "546130       Newspaper Reports On Abner, 20 February 1935           0   \n",
       "546222                                             恋は水の上で           0   \n",
       "546221                                              私の誕生日           0   \n",
       "546220                                エル・チョクロ (EL CHOCLO)           0   \n",
       "546219                                           恋は不思議なもの           0   \n",
       "546218                         ゆうべはどうしたの (WHATSA MALLA U)           0   \n",
       "546217  Screen Director's Playhouse, Music For Million...           0   \n",
       "546216                                             ブルーマンボ           0   \n",
       "546215  Screen Director's Playhouse, Trade Winds direc...           0   \n",
       "546214  Screen Director's Playhouse, It's A Wonderful ...           0   \n",
       "\n",
       "        duration_ms  explicit  \\\n",
       "546130       896575         0   \n",
       "546222       188440         0   \n",
       "546221       173467         0   \n",
       "546220       205280         0   \n",
       "546219       185733         0   \n",
       "546218       183427         0   \n",
       "546217      1767071         0   \n",
       "546216       162147         0   \n",
       "546215      1776652         0   \n",
       "546214      1767576         0   \n",
       "\n",
       "                                                  artists  \\\n",
       "546130  ['Norris Goff', 'Chester Lauck', 'Carlton Bric...   \n",
       "546222                                  ['Hibari Misora']   \n",
       "546221                                  ['Hibari Misora']   \n",
       "546220                                  ['Hibari Misora']   \n",
       "546219                                  ['Hibari Misora']   \n",
       "546218                                  ['Hibari Misora']   \n",
       "546217  ['Wilms Herbert', 'June Allyson', 'Joseph Kear...   \n",
       "546216                                  ['Hibari Misora']   \n",
       "546215  ['Wally Maher', 'Tay Garnett', 'Lurene Tuttle'...   \n",
       "546214  ['Joseph Granby', 'Jimmy Stewart', 'Irene Tedr...   \n",
       "\n",
       "                                               id_artists release_date  \\\n",
       "546130  ['3WCwCPDMpGzrt0Qz6quumy', '7vk8UqABg0Sga78GI3...   1935-02-20   \n",
       "546222                         ['1m5pMY5blqJwdxJ7vqQtuN']         1949   \n",
       "546221                         ['1m5pMY5blqJwdxJ7vqQtuN']         1949   \n",
       "546220                         ['1m5pMY5blqJwdxJ7vqQtuN']         1949   \n",
       "546219                         ['1m5pMY5blqJwdxJ7vqQtuN']         1949   \n",
       "546218                         ['1m5pMY5blqJwdxJ7vqQtuN']         1949   \n",
       "546217  ['2rbm8QWvmnVwxFo84EVM1h', '4yW5adMgyIfHFzaL9i...   1949-04-10   \n",
       "546216                         ['1m5pMY5blqJwdxJ7vqQtuN']         1949   \n",
       "546215  ['7hkhJTTI3VnUGVWUt8SJXT', '3kYeeIpRCgJz4fQYDv...   1949-05-19   \n",
       "546214  ['6GK59BC4LJzqR0OpHAX2S3', '58BzBaExrnrx898sby...   1949-05-08   \n",
       "\n",
       "        danceability  energy  key  loudness  mode  speechiness  acousticness  \\\n",
       "546130         0.595   0.262    8   -17.746     1       0.9320         0.993   \n",
       "546222         0.418   0.388    0    -8.580     1       0.0358         0.925   \n",
       "546221         0.642   0.178    5   -11.700     1       0.0501         0.993   \n",
       "546220         0.695   0.467    0   -12.236     0       0.0422         0.827   \n",
       "546219         0.389   0.388    2    -8.221     1       0.0351         0.869   \n",
       "546218         0.631   0.249    5   -11.883     1       0.0355         0.951   \n",
       "546217         0.533   0.317    7   -13.047     1       0.9180         0.682   \n",
       "546216         0.529   0.546    0    -6.462     0       0.0418         0.784   \n",
       "546215         0.599   0.321    0   -15.428     0       0.9330         0.808   \n",
       "546214         0.645   0.341    8   -12.177     1       0.8670         0.690   \n",
       "\n",
       "        instrumentalness  liveness  valence    tempo  time_signature  \n",
       "546130          0.007510    0.0991    0.320   79.849               4  \n",
       "546222          0.000014    0.1050    0.439   94.549               4  \n",
       "546221          0.000943    0.0928    0.715  119.013               4  \n",
       "546220          0.000000    0.0861    0.756  125.941               4  \n",
       "546219          0.000000    0.0924    0.372   72.800               4  \n",
       "546218          0.000000    0.0814    0.517  131.097               4  \n",
       "546217          0.000000    0.3330    0.336   76.836               4  \n",
       "546216          0.000000    0.3750    0.903  128.604               4  \n",
       "546215          0.000000    0.5570    0.379   93.025               4  \n",
       "546214          0.000000    0.1530    0.431  117.591               4  "
      ]
     },
     "execution_count": 11,
     "metadata": {},
     "output_type": "execute_result"
    }
   ],
   "source": [
    "sorted_df=df_tracks.sort_values('popularity',ascending=True).head(10)\n",
    "sorted_df"
   ]
  },
  {
   "cell_type": "code",
   "execution_count": 12,
   "metadata": {
    "colab": {
     "base_uri": "https://localhost:8080/",
     "height": 519
    },
    "executionInfo": {
     "elapsed": 10,
     "status": "ok",
     "timestamp": 1675097355491,
     "user": {
      "displayName": "Priyanshu Arora",
      "userId": "06663386538292336269"
     },
     "user_tz": -330
    },
    "id": "Rul6vHoFj0UZ",
    "outputId": "20573541-f914-4faa-8899-32de4771fc3b"
   },
   "outputs": [
    {
     "data": {
      "text/html": [
       "<div>\n",
       "<style scoped>\n",
       "    .dataframe tbody tr th:only-of-type {\n",
       "        vertical-align: middle;\n",
       "    }\n",
       "\n",
       "    .dataframe tbody tr th {\n",
       "        vertical-align: top;\n",
       "    }\n",
       "\n",
       "    .dataframe thead th {\n",
       "        text-align: right;\n",
       "    }\n",
       "</style>\n",
       "<table border=\"1\" class=\"dataframe\">\n",
       "  <thead>\n",
       "    <tr style=\"text-align: right;\">\n",
       "      <th></th>\n",
       "      <th>count</th>\n",
       "      <th>mean</th>\n",
       "      <th>std</th>\n",
       "      <th>min</th>\n",
       "      <th>25%</th>\n",
       "      <th>50%</th>\n",
       "      <th>75%</th>\n",
       "      <th>max</th>\n",
       "    </tr>\n",
       "  </thead>\n",
       "  <tbody>\n",
       "    <tr>\n",
       "      <th>popularity</th>\n",
       "      <td>586672.0</td>\n",
       "      <td>27.570053</td>\n",
       "      <td>18.370642</td>\n",
       "      <td>0.0</td>\n",
       "      <td>13.0000</td>\n",
       "      <td>27.000000</td>\n",
       "      <td>41.00000</td>\n",
       "      <td>100.000</td>\n",
       "    </tr>\n",
       "    <tr>\n",
       "      <th>duration_ms</th>\n",
       "      <td>586672.0</td>\n",
       "      <td>230051.167286</td>\n",
       "      <td>126526.087418</td>\n",
       "      <td>3344.0</td>\n",
       "      <td>175093.0000</td>\n",
       "      <td>214893.000000</td>\n",
       "      <td>263867.00000</td>\n",
       "      <td>5621218.000</td>\n",
       "    </tr>\n",
       "    <tr>\n",
       "      <th>explicit</th>\n",
       "      <td>586672.0</td>\n",
       "      <td>0.044086</td>\n",
       "      <td>0.205286</td>\n",
       "      <td>0.0</td>\n",
       "      <td>0.0000</td>\n",
       "      <td>0.000000</td>\n",
       "      <td>0.00000</td>\n",
       "      <td>1.000</td>\n",
       "    </tr>\n",
       "    <tr>\n",
       "      <th>danceability</th>\n",
       "      <td>586672.0</td>\n",
       "      <td>0.563594</td>\n",
       "      <td>0.166103</td>\n",
       "      <td>0.0</td>\n",
       "      <td>0.4530</td>\n",
       "      <td>0.577000</td>\n",
       "      <td>0.68600</td>\n",
       "      <td>0.991</td>\n",
       "    </tr>\n",
       "    <tr>\n",
       "      <th>energy</th>\n",
       "      <td>586672.0</td>\n",
       "      <td>0.542036</td>\n",
       "      <td>0.251923</td>\n",
       "      <td>0.0</td>\n",
       "      <td>0.3430</td>\n",
       "      <td>0.549000</td>\n",
       "      <td>0.74800</td>\n",
       "      <td>1.000</td>\n",
       "    </tr>\n",
       "    <tr>\n",
       "      <th>key</th>\n",
       "      <td>586672.0</td>\n",
       "      <td>5.221603</td>\n",
       "      <td>3.519423</td>\n",
       "      <td>0.0</td>\n",
       "      <td>2.0000</td>\n",
       "      <td>5.000000</td>\n",
       "      <td>8.00000</td>\n",
       "      <td>11.000</td>\n",
       "    </tr>\n",
       "    <tr>\n",
       "      <th>loudness</th>\n",
       "      <td>586672.0</td>\n",
       "      <td>-10.206067</td>\n",
       "      <td>5.089328</td>\n",
       "      <td>-60.0</td>\n",
       "      <td>-12.8910</td>\n",
       "      <td>-9.243000</td>\n",
       "      <td>-6.48200</td>\n",
       "      <td>5.376</td>\n",
       "    </tr>\n",
       "    <tr>\n",
       "      <th>mode</th>\n",
       "      <td>586672.0</td>\n",
       "      <td>0.658797</td>\n",
       "      <td>0.474114</td>\n",
       "      <td>0.0</td>\n",
       "      <td>0.0000</td>\n",
       "      <td>1.000000</td>\n",
       "      <td>1.00000</td>\n",
       "      <td>1.000</td>\n",
       "    </tr>\n",
       "    <tr>\n",
       "      <th>speechiness</th>\n",
       "      <td>586672.0</td>\n",
       "      <td>0.104864</td>\n",
       "      <td>0.179893</td>\n",
       "      <td>0.0</td>\n",
       "      <td>0.0340</td>\n",
       "      <td>0.044300</td>\n",
       "      <td>0.07630</td>\n",
       "      <td>0.971</td>\n",
       "    </tr>\n",
       "    <tr>\n",
       "      <th>acousticness</th>\n",
       "      <td>586672.0</td>\n",
       "      <td>0.449863</td>\n",
       "      <td>0.348837</td>\n",
       "      <td>0.0</td>\n",
       "      <td>0.0969</td>\n",
       "      <td>0.422000</td>\n",
       "      <td>0.78500</td>\n",
       "      <td>0.996</td>\n",
       "    </tr>\n",
       "    <tr>\n",
       "      <th>instrumentalness</th>\n",
       "      <td>586672.0</td>\n",
       "      <td>0.113451</td>\n",
       "      <td>0.266868</td>\n",
       "      <td>0.0</td>\n",
       "      <td>0.0000</td>\n",
       "      <td>0.000024</td>\n",
       "      <td>0.00955</td>\n",
       "      <td>1.000</td>\n",
       "    </tr>\n",
       "    <tr>\n",
       "      <th>liveness</th>\n",
       "      <td>586672.0</td>\n",
       "      <td>0.213935</td>\n",
       "      <td>0.184326</td>\n",
       "      <td>0.0</td>\n",
       "      <td>0.0983</td>\n",
       "      <td>0.139000</td>\n",
       "      <td>0.27800</td>\n",
       "      <td>1.000</td>\n",
       "    </tr>\n",
       "    <tr>\n",
       "      <th>valence</th>\n",
       "      <td>586672.0</td>\n",
       "      <td>0.552292</td>\n",
       "      <td>0.257671</td>\n",
       "      <td>0.0</td>\n",
       "      <td>0.3460</td>\n",
       "      <td>0.564000</td>\n",
       "      <td>0.76900</td>\n",
       "      <td>1.000</td>\n",
       "    </tr>\n",
       "    <tr>\n",
       "      <th>tempo</th>\n",
       "      <td>586672.0</td>\n",
       "      <td>118.464857</td>\n",
       "      <td>29.764108</td>\n",
       "      <td>0.0</td>\n",
       "      <td>95.6000</td>\n",
       "      <td>117.384000</td>\n",
       "      <td>136.32100</td>\n",
       "      <td>246.381</td>\n",
       "    </tr>\n",
       "    <tr>\n",
       "      <th>time_signature</th>\n",
       "      <td>586672.0</td>\n",
       "      <td>3.873382</td>\n",
       "      <td>0.473162</td>\n",
       "      <td>0.0</td>\n",
       "      <td>4.0000</td>\n",
       "      <td>4.000000</td>\n",
       "      <td>4.00000</td>\n",
       "      <td>5.000</td>\n",
       "    </tr>\n",
       "  </tbody>\n",
       "</table>\n",
       "</div>"
      ],
      "text/plain": [
       "                     count           mean            std     min          25%  \\\n",
       "popularity        586672.0      27.570053      18.370642     0.0      13.0000   \n",
       "duration_ms       586672.0  230051.167286  126526.087418  3344.0  175093.0000   \n",
       "explicit          586672.0       0.044086       0.205286     0.0       0.0000   \n",
       "danceability      586672.0       0.563594       0.166103     0.0       0.4530   \n",
       "energy            586672.0       0.542036       0.251923     0.0       0.3430   \n",
       "key               586672.0       5.221603       3.519423     0.0       2.0000   \n",
       "loudness          586672.0     -10.206067       5.089328   -60.0     -12.8910   \n",
       "mode              586672.0       0.658797       0.474114     0.0       0.0000   \n",
       "speechiness       586672.0       0.104864       0.179893     0.0       0.0340   \n",
       "acousticness      586672.0       0.449863       0.348837     0.0       0.0969   \n",
       "instrumentalness  586672.0       0.113451       0.266868     0.0       0.0000   \n",
       "liveness          586672.0       0.213935       0.184326     0.0       0.0983   \n",
       "valence           586672.0       0.552292       0.257671     0.0       0.3460   \n",
       "tempo             586672.0     118.464857      29.764108     0.0      95.6000   \n",
       "time_signature    586672.0       3.873382       0.473162     0.0       4.0000   \n",
       "\n",
       "                            50%           75%          max  \n",
       "popularity            27.000000      41.00000      100.000  \n",
       "duration_ms       214893.000000  263867.00000  5621218.000  \n",
       "explicit               0.000000       0.00000        1.000  \n",
       "danceability           0.577000       0.68600        0.991  \n",
       "energy                 0.549000       0.74800        1.000  \n",
       "key                    5.000000       8.00000       11.000  \n",
       "loudness              -9.243000      -6.48200        5.376  \n",
       "mode                   1.000000       1.00000        1.000  \n",
       "speechiness            0.044300       0.07630        0.971  \n",
       "acousticness           0.422000       0.78500        0.996  \n",
       "instrumentalness       0.000024       0.00955        1.000  \n",
       "liveness               0.139000       0.27800        1.000  \n",
       "valence                0.564000       0.76900        1.000  \n",
       "tempo                117.384000     136.32100      246.381  \n",
       "time_signature         4.000000       4.00000        5.000  "
      ]
     },
     "execution_count": 12,
     "metadata": {},
     "output_type": "execute_result"
    }
   ],
   "source": [
    "df_tracks.describe().transpose()"
   ]
  },
  {
   "cell_type": "markdown",
   "metadata": {
    "id": "Mk9aV5T9j0Ua"
   },
   "source": [
    "## Q.What are the top 10 songs with popularity greater than '90'?"
   ]
  },
  {
   "cell_type": "code",
   "execution_count": 13,
   "metadata": {
    "colab": {
     "base_uri": "https://localhost:8080/",
     "height": 739
    },
    "executionInfo": {
     "elapsed": 9,
     "status": "ok",
     "timestamp": 1675097356492,
     "user": {
      "displayName": "Priyanshu Arora",
      "userId": "06663386538292336269"
     },
     "user_tz": -330
    },
    "id": "-kpPW85Yj0Ua",
    "outputId": "ca8a9c66-1372-4ca0-ab48-e13a6c8c9167"
   },
   "outputs": [
    {
     "data": {
      "text/html": [
       "<div>\n",
       "<style scoped>\n",
       "    .dataframe tbody tr th:only-of-type {\n",
       "        vertical-align: middle;\n",
       "    }\n",
       "\n",
       "    .dataframe tbody tr th {\n",
       "        vertical-align: top;\n",
       "    }\n",
       "\n",
       "    .dataframe thead th {\n",
       "        text-align: right;\n",
       "    }\n",
       "</style>\n",
       "<table border=\"1\" class=\"dataframe\">\n",
       "  <thead>\n",
       "    <tr style=\"text-align: right;\">\n",
       "      <th></th>\n",
       "      <th>id</th>\n",
       "      <th>name</th>\n",
       "      <th>popularity</th>\n",
       "      <th>duration_ms</th>\n",
       "      <th>explicit</th>\n",
       "      <th>artists</th>\n",
       "      <th>id_artists</th>\n",
       "      <th>release_date</th>\n",
       "      <th>danceability</th>\n",
       "      <th>energy</th>\n",
       "      <th>key</th>\n",
       "      <th>loudness</th>\n",
       "      <th>mode</th>\n",
       "      <th>speechiness</th>\n",
       "      <th>acousticness</th>\n",
       "      <th>instrumentalness</th>\n",
       "      <th>liveness</th>\n",
       "      <th>valence</th>\n",
       "      <th>tempo</th>\n",
       "      <th>time_signature</th>\n",
       "    </tr>\n",
       "  </thead>\n",
       "  <tbody>\n",
       "    <tr>\n",
       "      <th>93802</th>\n",
       "      <td>4iJyoBOLtHqaGxP12qzhQI</td>\n",
       "      <td>Peaches (feat. Daniel Caesar &amp; Giveon)</td>\n",
       "      <td>100</td>\n",
       "      <td>198082</td>\n",
       "      <td>1</td>\n",
       "      <td>['Justin Bieber', 'Daniel Caesar', 'Giveon']</td>\n",
       "      <td>['1uNFoZAHBGtllmzznpCI3s', '20wkVLutqVOYrc0kxF...</td>\n",
       "      <td>2021-03-19</td>\n",
       "      <td>0.677</td>\n",
       "      <td>0.696</td>\n",
       "      <td>0</td>\n",
       "      <td>-6.181</td>\n",
       "      <td>1</td>\n",
       "      <td>0.1190</td>\n",
       "      <td>0.32100</td>\n",
       "      <td>0.000000</td>\n",
       "      <td>0.4200</td>\n",
       "      <td>0.464</td>\n",
       "      <td>90.030</td>\n",
       "      <td>4</td>\n",
       "    </tr>\n",
       "    <tr>\n",
       "      <th>93803</th>\n",
       "      <td>7lPN2DXiMsVn7XUKtOW1CS</td>\n",
       "      <td>drivers license</td>\n",
       "      <td>99</td>\n",
       "      <td>242014</td>\n",
       "      <td>1</td>\n",
       "      <td>['Olivia Rodrigo']</td>\n",
       "      <td>['1McMsnEElThX1knmY4oliG']</td>\n",
       "      <td>2021-01-08</td>\n",
       "      <td>0.585</td>\n",
       "      <td>0.436</td>\n",
       "      <td>10</td>\n",
       "      <td>-8.761</td>\n",
       "      <td>1</td>\n",
       "      <td>0.0601</td>\n",
       "      <td>0.72100</td>\n",
       "      <td>0.000013</td>\n",
       "      <td>0.1050</td>\n",
       "      <td>0.132</td>\n",
       "      <td>143.874</td>\n",
       "      <td>4</td>\n",
       "    </tr>\n",
       "    <tr>\n",
       "      <th>93804</th>\n",
       "      <td>3Ofmpyhv5UAQ70mENzB277</td>\n",
       "      <td>Astronaut In The Ocean</td>\n",
       "      <td>98</td>\n",
       "      <td>132780</td>\n",
       "      <td>0</td>\n",
       "      <td>['Masked Wolf']</td>\n",
       "      <td>['1uU7g3DNSbsu0QjSEqZtEd']</td>\n",
       "      <td>2021-01-06</td>\n",
       "      <td>0.778</td>\n",
       "      <td>0.695</td>\n",
       "      <td>4</td>\n",
       "      <td>-6.865</td>\n",
       "      <td>0</td>\n",
       "      <td>0.0913</td>\n",
       "      <td>0.17500</td>\n",
       "      <td>0.000000</td>\n",
       "      <td>0.1500</td>\n",
       "      <td>0.472</td>\n",
       "      <td>149.996</td>\n",
       "      <td>4</td>\n",
       "    </tr>\n",
       "    <tr>\n",
       "      <th>92810</th>\n",
       "      <td>5QO79kh1waicV47BqGRL3g</td>\n",
       "      <td>Save Your Tears</td>\n",
       "      <td>97</td>\n",
       "      <td>215627</td>\n",
       "      <td>1</td>\n",
       "      <td>['The Weeknd']</td>\n",
       "      <td>['1Xyo4u8uXC1ZmMpatF05PJ']</td>\n",
       "      <td>2020-03-20</td>\n",
       "      <td>0.680</td>\n",
       "      <td>0.826</td>\n",
       "      <td>0</td>\n",
       "      <td>-5.487</td>\n",
       "      <td>1</td>\n",
       "      <td>0.0309</td>\n",
       "      <td>0.02120</td>\n",
       "      <td>0.000012</td>\n",
       "      <td>0.5430</td>\n",
       "      <td>0.644</td>\n",
       "      <td>118.051</td>\n",
       "      <td>4</td>\n",
       "    </tr>\n",
       "    <tr>\n",
       "      <th>92811</th>\n",
       "      <td>6tDDoYIxWvMLTdKpjFkc1B</td>\n",
       "      <td>telepatía</td>\n",
       "      <td>97</td>\n",
       "      <td>160191</td>\n",
       "      <td>0</td>\n",
       "      <td>['Kali Uchis']</td>\n",
       "      <td>['1U1el3k54VvEUzo3ybLPlM']</td>\n",
       "      <td>2020-12-04</td>\n",
       "      <td>0.653</td>\n",
       "      <td>0.524</td>\n",
       "      <td>11</td>\n",
       "      <td>-9.016</td>\n",
       "      <td>0</td>\n",
       "      <td>0.0502</td>\n",
       "      <td>0.11200</td>\n",
       "      <td>0.000000</td>\n",
       "      <td>0.2030</td>\n",
       "      <td>0.553</td>\n",
       "      <td>83.970</td>\n",
       "      <td>4</td>\n",
       "    </tr>\n",
       "    <tr>\n",
       "      <th>92813</th>\n",
       "      <td>0VjIjW4GlUZAMYd2vXMi3b</td>\n",
       "      <td>Blinding Lights</td>\n",
       "      <td>96</td>\n",
       "      <td>200040</td>\n",
       "      <td>0</td>\n",
       "      <td>['The Weeknd']</td>\n",
       "      <td>['1Xyo4u8uXC1ZmMpatF05PJ']</td>\n",
       "      <td>2020-03-20</td>\n",
       "      <td>0.514</td>\n",
       "      <td>0.730</td>\n",
       "      <td>1</td>\n",
       "      <td>-5.934</td>\n",
       "      <td>1</td>\n",
       "      <td>0.0598</td>\n",
       "      <td>0.00146</td>\n",
       "      <td>0.000095</td>\n",
       "      <td>0.0897</td>\n",
       "      <td>0.334</td>\n",
       "      <td>171.005</td>\n",
       "      <td>4</td>\n",
       "    </tr>\n",
       "    <tr>\n",
       "      <th>93805</th>\n",
       "      <td>7MAibcTli4IisCtbHKrGMh</td>\n",
       "      <td>Leave The Door Open</td>\n",
       "      <td>96</td>\n",
       "      <td>242096</td>\n",
       "      <td>0</td>\n",
       "      <td>['Bruno Mars', 'Anderson .Paak', 'Silk Sonic']</td>\n",
       "      <td>['0du5cEVh5yTK9QJze8zA0C', '3jK9MiCrA42lLAdMGU...</td>\n",
       "      <td>2021-03-05</td>\n",
       "      <td>0.586</td>\n",
       "      <td>0.616</td>\n",
       "      <td>5</td>\n",
       "      <td>-7.964</td>\n",
       "      <td>1</td>\n",
       "      <td>0.0324</td>\n",
       "      <td>0.18200</td>\n",
       "      <td>0.000000</td>\n",
       "      <td>0.0927</td>\n",
       "      <td>0.719</td>\n",
       "      <td>148.088</td>\n",
       "      <td>4</td>\n",
       "    </tr>\n",
       "    <tr>\n",
       "      <th>92814</th>\n",
       "      <td>6f3Slt0GbA2bPZlz0aIFXN</td>\n",
       "      <td>The Business</td>\n",
       "      <td>95</td>\n",
       "      <td>164000</td>\n",
       "      <td>0</td>\n",
       "      <td>['Tiësto']</td>\n",
       "      <td>['2o5jDhtHVPhrJdv3cEQ99Z']</td>\n",
       "      <td>2020-09-16</td>\n",
       "      <td>0.798</td>\n",
       "      <td>0.620</td>\n",
       "      <td>8</td>\n",
       "      <td>-7.079</td>\n",
       "      <td>0</td>\n",
       "      <td>0.2320</td>\n",
       "      <td>0.41400</td>\n",
       "      <td>0.019200</td>\n",
       "      <td>0.1120</td>\n",
       "      <td>0.235</td>\n",
       "      <td>120.031</td>\n",
       "      <td>4</td>\n",
       "    </tr>\n",
       "    <tr>\n",
       "      <th>91866</th>\n",
       "      <td>60ynsPSSKe6O3sfwRnIBRf</td>\n",
       "      <td>Streets</td>\n",
       "      <td>94</td>\n",
       "      <td>226987</td>\n",
       "      <td>1</td>\n",
       "      <td>['Doja Cat']</td>\n",
       "      <td>['5cj0lLjcoR7YOSnhnX0Po5']</td>\n",
       "      <td>2019-11-07</td>\n",
       "      <td>0.749</td>\n",
       "      <td>0.463</td>\n",
       "      <td>11</td>\n",
       "      <td>-8.433</td>\n",
       "      <td>1</td>\n",
       "      <td>0.0828</td>\n",
       "      <td>0.20800</td>\n",
       "      <td>0.037100</td>\n",
       "      <td>0.3370</td>\n",
       "      <td>0.190</td>\n",
       "      <td>90.028</td>\n",
       "      <td>4</td>\n",
       "    </tr>\n",
       "    <tr>\n",
       "      <th>92816</th>\n",
       "      <td>3FAJ6O0NOHQV8Mc5Ri6ENp</td>\n",
       "      <td>Heartbreak Anniversary</td>\n",
       "      <td>94</td>\n",
       "      <td>198371</td>\n",
       "      <td>0</td>\n",
       "      <td>['Giveon']</td>\n",
       "      <td>['4fxd5Ee7UefO4CUXgwJ7IP']</td>\n",
       "      <td>2020-03-27</td>\n",
       "      <td>0.449</td>\n",
       "      <td>0.465</td>\n",
       "      <td>0</td>\n",
       "      <td>-8.964</td>\n",
       "      <td>1</td>\n",
       "      <td>0.0791</td>\n",
       "      <td>0.52400</td>\n",
       "      <td>0.000001</td>\n",
       "      <td>0.3030</td>\n",
       "      <td>0.543</td>\n",
       "      <td>89.087</td>\n",
       "      <td>3</td>\n",
       "    </tr>\n",
       "  </tbody>\n",
       "</table>\n",
       "</div>"
      ],
      "text/plain": [
       "                           id                                    name  \\\n",
       "93802  4iJyoBOLtHqaGxP12qzhQI  Peaches (feat. Daniel Caesar & Giveon)   \n",
       "93803  7lPN2DXiMsVn7XUKtOW1CS                         drivers license   \n",
       "93804  3Ofmpyhv5UAQ70mENzB277                  Astronaut In The Ocean   \n",
       "92810  5QO79kh1waicV47BqGRL3g                         Save Your Tears   \n",
       "92811  6tDDoYIxWvMLTdKpjFkc1B                               telepatía   \n",
       "92813  0VjIjW4GlUZAMYd2vXMi3b                         Blinding Lights   \n",
       "93805  7MAibcTli4IisCtbHKrGMh                     Leave The Door Open   \n",
       "92814  6f3Slt0GbA2bPZlz0aIFXN                            The Business   \n",
       "91866  60ynsPSSKe6O3sfwRnIBRf                                 Streets   \n",
       "92816  3FAJ6O0NOHQV8Mc5Ri6ENp                  Heartbreak Anniversary   \n",
       "\n",
       "       popularity  duration_ms  explicit  \\\n",
       "93802         100       198082         1   \n",
       "93803          99       242014         1   \n",
       "93804          98       132780         0   \n",
       "92810          97       215627         1   \n",
       "92811          97       160191         0   \n",
       "92813          96       200040         0   \n",
       "93805          96       242096         0   \n",
       "92814          95       164000         0   \n",
       "91866          94       226987         1   \n",
       "92816          94       198371         0   \n",
       "\n",
       "                                              artists  \\\n",
       "93802    ['Justin Bieber', 'Daniel Caesar', 'Giveon']   \n",
       "93803                              ['Olivia Rodrigo']   \n",
       "93804                                 ['Masked Wolf']   \n",
       "92810                                  ['The Weeknd']   \n",
       "92811                                  ['Kali Uchis']   \n",
       "92813                                  ['The Weeknd']   \n",
       "93805  ['Bruno Mars', 'Anderson .Paak', 'Silk Sonic']   \n",
       "92814                                      ['Tiësto']   \n",
       "91866                                    ['Doja Cat']   \n",
       "92816                                      ['Giveon']   \n",
       "\n",
       "                                              id_artists release_date  \\\n",
       "93802  ['1uNFoZAHBGtllmzznpCI3s', '20wkVLutqVOYrc0kxF...   2021-03-19   \n",
       "93803                         ['1McMsnEElThX1knmY4oliG']   2021-01-08   \n",
       "93804                         ['1uU7g3DNSbsu0QjSEqZtEd']   2021-01-06   \n",
       "92810                         ['1Xyo4u8uXC1ZmMpatF05PJ']   2020-03-20   \n",
       "92811                         ['1U1el3k54VvEUzo3ybLPlM']   2020-12-04   \n",
       "92813                         ['1Xyo4u8uXC1ZmMpatF05PJ']   2020-03-20   \n",
       "93805  ['0du5cEVh5yTK9QJze8zA0C', '3jK9MiCrA42lLAdMGU...   2021-03-05   \n",
       "92814                         ['2o5jDhtHVPhrJdv3cEQ99Z']   2020-09-16   \n",
       "91866                         ['5cj0lLjcoR7YOSnhnX0Po5']   2019-11-07   \n",
       "92816                         ['4fxd5Ee7UefO4CUXgwJ7IP']   2020-03-27   \n",
       "\n",
       "       danceability  energy  key  loudness  mode  speechiness  acousticness  \\\n",
       "93802         0.677   0.696    0    -6.181     1       0.1190       0.32100   \n",
       "93803         0.585   0.436   10    -8.761     1       0.0601       0.72100   \n",
       "93804         0.778   0.695    4    -6.865     0       0.0913       0.17500   \n",
       "92810         0.680   0.826    0    -5.487     1       0.0309       0.02120   \n",
       "92811         0.653   0.524   11    -9.016     0       0.0502       0.11200   \n",
       "92813         0.514   0.730    1    -5.934     1       0.0598       0.00146   \n",
       "93805         0.586   0.616    5    -7.964     1       0.0324       0.18200   \n",
       "92814         0.798   0.620    8    -7.079     0       0.2320       0.41400   \n",
       "91866         0.749   0.463   11    -8.433     1       0.0828       0.20800   \n",
       "92816         0.449   0.465    0    -8.964     1       0.0791       0.52400   \n",
       "\n",
       "       instrumentalness  liveness  valence    tempo  time_signature  \n",
       "93802          0.000000    0.4200    0.464   90.030               4  \n",
       "93803          0.000013    0.1050    0.132  143.874               4  \n",
       "93804          0.000000    0.1500    0.472  149.996               4  \n",
       "92810          0.000012    0.5430    0.644  118.051               4  \n",
       "92811          0.000000    0.2030    0.553   83.970               4  \n",
       "92813          0.000095    0.0897    0.334  171.005               4  \n",
       "93805          0.000000    0.0927    0.719  148.088               4  \n",
       "92814          0.019200    0.1120    0.235  120.031               4  \n",
       "91866          0.037100    0.3370    0.190   90.028               4  \n",
       "92816          0.000001    0.3030    0.543   89.087               3  "
      ]
     },
     "execution_count": 13,
     "metadata": {},
     "output_type": "execute_result"
    }
   ],
   "source": [
    "most_popular=df_tracks.query('popularity>90',inplace=False).sort_values('popularity',ascending=False)\n",
    "most_popular[:10]"
   ]
  },
  {
   "cell_type": "code",
   "execution_count": 14,
   "metadata": {
    "colab": {
     "base_uri": "https://localhost:8080/",
     "height": 405
    },
    "executionInfo": {
     "elapsed": 729,
     "status": "ok",
     "timestamp": 1675097359506,
     "user": {
      "displayName": "Priyanshu Arora",
      "userId": "06663386538292336269"
     },
     "user_tz": -330
    },
    "id": "pWP80ebRj0Ua",
    "outputId": "c37decf7-2f55-46e5-9f53-3eaf5ecfe79f"
   },
   "outputs": [
    {
     "data": {
      "text/html": [
       "<div>\n",
       "<style scoped>\n",
       "    .dataframe tbody tr th:only-of-type {\n",
       "        vertical-align: middle;\n",
       "    }\n",
       "\n",
       "    .dataframe tbody tr th {\n",
       "        vertical-align: top;\n",
       "    }\n",
       "\n",
       "    .dataframe thead th {\n",
       "        text-align: right;\n",
       "    }\n",
       "</style>\n",
       "<table border=\"1\" class=\"dataframe\">\n",
       "  <thead>\n",
       "    <tr style=\"text-align: right;\">\n",
       "      <th></th>\n",
       "      <th>id</th>\n",
       "      <th>name</th>\n",
       "      <th>popularity</th>\n",
       "      <th>duration_ms</th>\n",
       "      <th>explicit</th>\n",
       "      <th>artists</th>\n",
       "      <th>id_artists</th>\n",
       "      <th>danceability</th>\n",
       "      <th>energy</th>\n",
       "      <th>key</th>\n",
       "      <th>loudness</th>\n",
       "      <th>mode</th>\n",
       "      <th>speechiness</th>\n",
       "      <th>acousticness</th>\n",
       "      <th>instrumentalness</th>\n",
       "      <th>liveness</th>\n",
       "      <th>valence</th>\n",
       "      <th>tempo</th>\n",
       "      <th>time_signature</th>\n",
       "    </tr>\n",
       "    <tr>\n",
       "      <th>release_date</th>\n",
       "      <th></th>\n",
       "      <th></th>\n",
       "      <th></th>\n",
       "      <th></th>\n",
       "      <th></th>\n",
       "      <th></th>\n",
       "      <th></th>\n",
       "      <th></th>\n",
       "      <th></th>\n",
       "      <th></th>\n",
       "      <th></th>\n",
       "      <th></th>\n",
       "      <th></th>\n",
       "      <th></th>\n",
       "      <th></th>\n",
       "      <th></th>\n",
       "      <th></th>\n",
       "      <th></th>\n",
       "      <th></th>\n",
       "    </tr>\n",
       "  </thead>\n",
       "  <tbody>\n",
       "    <tr>\n",
       "      <th>1922-02-22</th>\n",
       "      <td>35iwgR4jXetI318WEWsa1Q</td>\n",
       "      <td>Carve</td>\n",
       "      <td>6</td>\n",
       "      <td>126903</td>\n",
       "      <td>0</td>\n",
       "      <td>['Uli']</td>\n",
       "      <td>['45tIt06XoI0Iio4LBEVpls']</td>\n",
       "      <td>0.645</td>\n",
       "      <td>0.4450</td>\n",
       "      <td>0</td>\n",
       "      <td>-13.338</td>\n",
       "      <td>1</td>\n",
       "      <td>0.4510</td>\n",
       "      <td>0.674</td>\n",
       "      <td>0.7440</td>\n",
       "      <td>0.151</td>\n",
       "      <td>0.127</td>\n",
       "      <td>104.851</td>\n",
       "      <td>3</td>\n",
       "    </tr>\n",
       "    <tr>\n",
       "      <th>1922-06-01</th>\n",
       "      <td>021ht4sdgPcrDgSk7JTbKY</td>\n",
       "      <td>Capítulo 2.16 - Banquero Anarquista</td>\n",
       "      <td>0</td>\n",
       "      <td>98200</td>\n",
       "      <td>0</td>\n",
       "      <td>['Fernando Pessoa']</td>\n",
       "      <td>['14jtPCOoNZwquk5wd9DxrY']</td>\n",
       "      <td>0.695</td>\n",
       "      <td>0.2630</td>\n",
       "      <td>0</td>\n",
       "      <td>-22.136</td>\n",
       "      <td>1</td>\n",
       "      <td>0.9570</td>\n",
       "      <td>0.797</td>\n",
       "      <td>0.0000</td>\n",
       "      <td>0.148</td>\n",
       "      <td>0.655</td>\n",
       "      <td>102.009</td>\n",
       "      <td>1</td>\n",
       "    </tr>\n",
       "    <tr>\n",
       "      <th>1922-03-21</th>\n",
       "      <td>07A5yehtSnoedViJAZkNnc</td>\n",
       "      <td>Vivo para Quererte - Remasterizado</td>\n",
       "      <td>0</td>\n",
       "      <td>181640</td>\n",
       "      <td>0</td>\n",
       "      <td>['Ignacio Corsini']</td>\n",
       "      <td>['5LiOoJbxVSAMkBS2fUm3X2']</td>\n",
       "      <td>0.434</td>\n",
       "      <td>0.1770</td>\n",
       "      <td>1</td>\n",
       "      <td>-21.180</td>\n",
       "      <td>1</td>\n",
       "      <td>0.0512</td>\n",
       "      <td>0.994</td>\n",
       "      <td>0.0218</td>\n",
       "      <td>0.212</td>\n",
       "      <td>0.457</td>\n",
       "      <td>130.418</td>\n",
       "      <td>5</td>\n",
       "    </tr>\n",
       "    <tr>\n",
       "      <th>1922-03-21</th>\n",
       "      <td>08FmqUhxtyLTn6pAh6bk45</td>\n",
       "      <td>El Prisionero - Remasterizado</td>\n",
       "      <td>0</td>\n",
       "      <td>176907</td>\n",
       "      <td>0</td>\n",
       "      <td>['Ignacio Corsini']</td>\n",
       "      <td>['5LiOoJbxVSAMkBS2fUm3X2']</td>\n",
       "      <td>0.321</td>\n",
       "      <td>0.0946</td>\n",
       "      <td>7</td>\n",
       "      <td>-27.961</td>\n",
       "      <td>1</td>\n",
       "      <td>0.0504</td>\n",
       "      <td>0.995</td>\n",
       "      <td>0.9180</td>\n",
       "      <td>0.104</td>\n",
       "      <td>0.397</td>\n",
       "      <td>169.980</td>\n",
       "      <td>3</td>\n",
       "    </tr>\n",
       "    <tr>\n",
       "      <th>1922-01-01</th>\n",
       "      <td>08y9GfoqCWfOGsKdwojr5e</td>\n",
       "      <td>Lady of the Evening</td>\n",
       "      <td>0</td>\n",
       "      <td>163080</td>\n",
       "      <td>0</td>\n",
       "      <td>['Dick Haymes']</td>\n",
       "      <td>['3BiJGZsyX9sJchTqcSA7Su']</td>\n",
       "      <td>0.402</td>\n",
       "      <td>0.1580</td>\n",
       "      <td>3</td>\n",
       "      <td>-16.900</td>\n",
       "      <td>0</td>\n",
       "      <td>0.0390</td>\n",
       "      <td>0.989</td>\n",
       "      <td>0.1300</td>\n",
       "      <td>0.311</td>\n",
       "      <td>0.196</td>\n",
       "      <td>103.220</td>\n",
       "      <td>4</td>\n",
       "    </tr>\n",
       "  </tbody>\n",
       "</table>\n",
       "</div>"
      ],
      "text/plain": [
       "                                  id                                 name  \\\n",
       "release_date                                                                \n",
       "1922-02-22    35iwgR4jXetI318WEWsa1Q                                Carve   \n",
       "1922-06-01    021ht4sdgPcrDgSk7JTbKY  Capítulo 2.16 - Banquero Anarquista   \n",
       "1922-03-21    07A5yehtSnoedViJAZkNnc   Vivo para Quererte - Remasterizado   \n",
       "1922-03-21    08FmqUhxtyLTn6pAh6bk45        El Prisionero - Remasterizado   \n",
       "1922-01-01    08y9GfoqCWfOGsKdwojr5e                  Lady of the Evening   \n",
       "\n",
       "              popularity  duration_ms  explicit              artists  \\\n",
       "release_date                                                           \n",
       "1922-02-22             6       126903         0              ['Uli']   \n",
       "1922-06-01             0        98200         0  ['Fernando Pessoa']   \n",
       "1922-03-21             0       181640         0  ['Ignacio Corsini']   \n",
       "1922-03-21             0       176907         0  ['Ignacio Corsini']   \n",
       "1922-01-01             0       163080         0      ['Dick Haymes']   \n",
       "\n",
       "                              id_artists  danceability  energy  key  loudness  \\\n",
       "release_date                                                                    \n",
       "1922-02-22    ['45tIt06XoI0Iio4LBEVpls']         0.645  0.4450    0   -13.338   \n",
       "1922-06-01    ['14jtPCOoNZwquk5wd9DxrY']         0.695  0.2630    0   -22.136   \n",
       "1922-03-21    ['5LiOoJbxVSAMkBS2fUm3X2']         0.434  0.1770    1   -21.180   \n",
       "1922-03-21    ['5LiOoJbxVSAMkBS2fUm3X2']         0.321  0.0946    7   -27.961   \n",
       "1922-01-01    ['3BiJGZsyX9sJchTqcSA7Su']         0.402  0.1580    3   -16.900   \n",
       "\n",
       "              mode  speechiness  acousticness  instrumentalness  liveness  \\\n",
       "release_date                                                                \n",
       "1922-02-22       1       0.4510         0.674            0.7440     0.151   \n",
       "1922-06-01       1       0.9570         0.797            0.0000     0.148   \n",
       "1922-03-21       1       0.0512         0.994            0.0218     0.212   \n",
       "1922-03-21       1       0.0504         0.995            0.9180     0.104   \n",
       "1922-01-01       0       0.0390         0.989            0.1300     0.311   \n",
       "\n",
       "              valence    tempo  time_signature  \n",
       "release_date                                    \n",
       "1922-02-22      0.127  104.851               3  \n",
       "1922-06-01      0.655  102.009               1  \n",
       "1922-03-21      0.457  130.418               5  \n",
       "1922-03-21      0.397  169.980               3  \n",
       "1922-01-01      0.196  103.220               4  "
      ]
     },
     "execution_count": 14,
     "metadata": {},
     "output_type": "execute_result"
    }
   ],
   "source": [
    "df_tracks.set_index('release_date',inplace=True)\n",
    "df_tracks.index=pd.to_datetime(df_tracks.index)\n",
    "df_tracks.head()"
   ]
  },
  {
   "cell_type": "markdown",
   "metadata": {
    "id": "kvjIQT95j0Ua"
   },
   "source": [
    "## Q.Who is the artist in the 18th row?"
   ]
  },
  {
   "cell_type": "code",
   "execution_count": 15,
   "metadata": {
    "colab": {
     "base_uri": "https://localhost:8080/"
    },
    "executionInfo": {
     "elapsed": 551,
     "status": "ok",
     "timestamp": 1675097362313,
     "user": {
      "displayName": "Priyanshu Arora",
      "userId": "06663386538292336269"
     },
     "user_tz": -330
    },
    "id": "W9SW6Td-j0Ua",
    "outputId": "d0ff60ad-153b-47f3-fcc7-b2812049b15b"
   },
   "outputs": [
    {
     "data": {
      "text/plain": [
       "artists    ['Victor Boucher']\n",
       "Name: 1922-01-01 00:00:00, dtype: object"
      ]
     },
     "execution_count": 15,
     "metadata": {},
     "output_type": "execute_result"
    }
   ],
   "source": [
    "df_tracks[['artists']].iloc[18]"
   ]
  },
  {
   "cell_type": "code",
   "execution_count": 16,
   "metadata": {
    "id": "K51RNUAVj0Ua",
    "outputId": "c1a66c3e-045c-45ae-93a9-fe39a9b7c650"
   },
   "outputs": [
    {
     "data": {
      "application/javascript": [
       "window.require && require([\"base/js/namespace\"],function(Jupyter){Jupyter.notebook.save_checkpoint()})"
      ],
      "text/plain": [
       "<IPython.core.display.Javascript object>"
      ]
     },
     "metadata": {},
     "output_type": "display_data"
    },
    {
     "name": "stdout",
     "output_type": "stream",
     "text": [
      "[jovian] Updating notebook \"priyanshuarora5/spotify-eda-priyanshuarora\" on https://jovian.com\u001b[0m\n",
      "[jovian] Committed successfully! https://jovian.com/priyanshuarora5/spotify-eda-priyanshuarora\u001b[0m\n"
     ]
    },
    {
     "data": {
      "text/plain": [
       "'https://jovian.com/priyanshuarora5/spotify-eda-priyanshuarora'"
      ]
     },
     "execution_count": 16,
     "metadata": {},
     "output_type": "execute_result"
    }
   ],
   "source": [
    "jovian.commit()"
   ]
  },
  {
   "cell_type": "markdown",
   "metadata": {
    "id": "0KZlf2GWj0Ub"
   },
   "source": [
    "## Convert duration of songs from miliseconds to seconds\n",
    "In the given dataset the duration of songs is in milliseconds, it would be much easier for us to analyse this data if we will convert this duration into seconds. "
   ]
  },
  {
   "cell_type": "code",
   "execution_count": 17,
   "metadata": {
    "id": "zpWsy29fj0Ub"
   },
   "outputs": [],
   "source": [
    "df_tracks['duration']=df_tracks['duration_ms'].apply(lambda x:round(x/1000))\n",
    "df_tracks.drop('duration_ms',inplace=True,axis=1)"
   ]
  },
  {
   "cell_type": "code",
   "execution_count": 18,
   "metadata": {
    "id": "CBCGV3B3j0Ub",
    "outputId": "4bbe9e32-b486-46f7-da8b-eb84e9536357"
   },
   "outputs": [
    {
     "data": {
      "text/plain": [
       "release_date\n",
       "1922-02-22    127\n",
       "1922-06-01     98\n",
       "1922-03-21    182\n",
       "1922-03-21    177\n",
       "1922-01-01    163\n",
       "Name: duration, dtype: int64"
      ]
     },
     "execution_count": 18,
     "metadata": {},
     "output_type": "execute_result"
    }
   ],
   "source": [
    "df_tracks.duration.head()"
   ]
  },
  {
   "cell_type": "markdown",
   "metadata": {
    "id": "TG2u-lX4j0Ub"
   },
   "source": [
    "To plot the data a heatmap is created using Seaborn."
   ]
  },
  {
   "cell_type": "code",
   "execution_count": 19,
   "metadata": {
    "colab": {
     "base_uri": "https://localhost:8080/",
     "height": 675
    },
    "executionInfo": {
     "elapsed": 5603,
     "status": "ok",
     "timestamp": 1675097374299,
     "user": {
      "displayName": "Priyanshu Arora",
      "userId": "06663386538292336269"
     },
     "user_tz": -330
    },
    "id": "51RuIhRzj0Ub",
    "outputId": "0cef924c-c41c-4ddc-a9fb-9354e8fcb1ea",
    "scrolled": true
   },
   "outputs": [
    {
     "data": {
      "text/plain": [
       "[Text(0.5, 0, 'popularity'),\n",
       " Text(1.5, 0, 'danceability'),\n",
       " Text(2.5, 0, 'energy'),\n",
       " Text(3.5, 0, 'loudness'),\n",
       " Text(4.5, 0, 'speechiness'),\n",
       " Text(5.5, 0, 'acousticness'),\n",
       " Text(6.5, 0, 'instrumentalness'),\n",
       " Text(7.5, 0, 'liveness'),\n",
       " Text(8.5, 0, 'valence'),\n",
       " Text(9.5, 0, 'tempo'),\n",
       " Text(10.5, 0, 'time_signature'),\n",
       " Text(11.5, 0, 'duration')]"
      ]
     },
     "execution_count": 19,
     "metadata": {},
     "output_type": "execute_result"
    },
    {
     "data": {
      "image/png": "[encoded data removed]",
      "text/plain": [
       "<Figure size 1008x432 with 2 Axes>"
      ]
     },
     "metadata": {
      "needs_background": "light"
     },
     "output_type": "display_data"
    }
   ],
   "source": [
    "corr_df=df_tracks.drop(['key','mode','explicit'],axis=1).corr(method='pearson')\n",
    "plt.figure(figsize=(14,6))\n",
    "heatmap=sns.heatmap(corr_df,annot=True,fmt='.1g',vmin=1,vmax=1,center=0,cmap='mako',linewidths=1,linecolor='Black')\n",
    "heatmap.set_title('Correlation HeatMap Between Variable')\n",
    "heatmap.set_xticklabels(heatmap.get_xticklabels(),rotation=90)"
   ]
  },
  {
   "cell_type": "code",
   "execution_count": 20,
   "metadata": {
    "id": "RfMxvPlWj0Ub"
   },
   "outputs": [],
   "source": [
    "sample_df=df_tracks.sample(int(0.004*len(df_tracks)))"
   ]
  },
  {
   "cell_type": "code",
   "execution_count": 21,
   "metadata": {
    "colab": {
     "base_uri": "https://localhost:8080/"
    },
    "executionInfo": {
     "elapsed": 4,
     "status": "ok",
     "timestamp": 1675097375050,
     "user": {
      "displayName": "Priyanshu Arora",
      "userId": "06663386538292336269"
     },
     "user_tz": -330
    },
    "id": "vWYAcB23j0Uc",
    "outputId": "8efa1a3d-b46d-4580-adad-b15fca8dba34"
   },
   "outputs": [
    {
     "name": "stdout",
     "output_type": "stream",
     "text": [
      "2346\n"
     ]
    }
   ],
   "source": [
    "print(len(sample_df))"
   ]
  },
  {
   "cell_type": "markdown",
   "metadata": {
    "id": "c16FQiIrj0Uc"
   },
   "source": [
    "## Plotting a correlation graph between 'Loudness' and 'Energy'\n",
    "For plotting this graph I have used \n",
    "regplot() : This method is used to plot data and a linear regression model fit."
   ]
  },
  {
   "cell_type": "code",
   "execution_count": 22,
   "metadata": {
    "colab": {
     "base_uri": "https://localhost:8080/",
     "height": 421
    },
    "executionInfo": {
     "elapsed": 1675,
     "status": "ok",
     "timestamp": 1675097378635,
     "user": {
      "displayName": "Priyanshu Arora",
      "userId": "06663386538292336269"
     },
     "user_tz": -330
    },
    "id": "Cjo29yrxj0Uc",
    "outputId": "80a43e34-3107-4d18-8afe-843e8ffd99dc"
   },
   "outputs": [
    {
     "data": {
      "text/plain": [
       "[Text(0.5, 1.0, 'Loudness vs Energy Correlation')]"
      ]
     },
     "execution_count": 22,
     "metadata": {},
     "output_type": "execute_result"
    },
    {
     "data": {
      "image/png": "[encoded data removed]",
      "text/plain": [
       "<Figure size 720x432 with 1 Axes>"
      ]
     },
     "metadata": {
      "needs_background": "light"
     },
     "output_type": "display_data"
    }
   ],
   "source": [
    "plt.figure(figsize=(10,6))\n",
    "sns.regplot(data=sample_df,y='loudness',x='energy',color='c').set(title='Loudness vs Energy Correlation')"
   ]
  },
  {
   "cell_type": "code",
   "execution_count": 23,
   "metadata": {
    "id": "X64RJTO1j0Uc",
    "outputId": "3c89c42f-4686-499c-d4e7-5a6ff36e4b9c"
   },
   "outputs": [
    {
     "data": {
      "application/javascript": [
       "window.require && require([\"base/js/namespace\"],function(Jupyter){Jupyter.notebook.save_checkpoint()})"
      ],
      "text/plain": [
       "<IPython.core.display.Javascript object>"
      ]
     },
     "metadata": {},
     "output_type": "display_data"
    },
    {
     "name": "stdout",
     "output_type": "stream",
     "text": [
      "[jovian] Updating notebook \"priyanshuarora5/spotify-eda-priyanshuarora\" on https://jovian.com\u001b[0m\n",
      "[jovian] Committed successfully! https://jovian.com/priyanshuarora5/spotify-eda-priyanshuarora\u001b[0m\n"
     ]
    },
    {
     "data": {
      "text/plain": [
       "'https://jovian.com/priyanshuarora5/spotify-eda-priyanshuarora'"
      ]
     },
     "execution_count": 23,
     "metadata": {},
     "output_type": "execute_result"
    }
   ],
   "source": [
    "jovian.commit()"
   ]
  },
  {
   "cell_type": "markdown",
   "metadata": {
    "id": "nYKxvWJqj0Uc"
   },
   "source": [
    "## Plotting a correlation graph between 'Popularity' and 'Acousticness'\n",
    "Again for this I have used regplot."
   ]
  },
  {
   "cell_type": "code",
   "execution_count": 24,
   "metadata": {
    "colab": {
     "base_uri": "https://localhost:8080/",
     "height": 421
    },
    "executionInfo": {
     "elapsed": 1834,
     "status": "ok",
     "timestamp": 1675097384939,
     "user": {
      "displayName": "Priyanshu Arora",
      "userId": "06663386538292336269"
     },
     "user_tz": -330
    },
    "id": "-UKaWoPnj0Uc",
    "outputId": "7343b83d-82e9-4048-b328-5ef0dbfc03a1"
   },
   "outputs": [
    {
     "data": {
      "text/plain": [
       "[Text(0.5, 1.0, 'Popularity vs Acousticness Correlation')]"
      ]
     },
     "execution_count": 24,
     "metadata": {},
     "output_type": "execute_result"
    },
    {
     "data": {
      "image/png": "[encoded data removed]",
      "text/plain": [
       "<Figure size 720x432 with 1 Axes>"
      ]
     },
     "metadata": {
      "needs_background": "light"
     },
     "output_type": "display_data"
    }
   ],
   "source": [
    "plt.figure(figsize=(10,6))\n",
    "sns.regplot(data=sample_df,y='popularity',x='acousticness',color='b').set(title='Popularity vs Acousticness Correlation')"
   ]
  },
  {
   "cell_type": "code",
   "execution_count": 25,
   "metadata": {
    "id": "6McSCUHoj0Ud"
   },
   "outputs": [],
   "source": [
    "df_tracks['dates']=df_tracks.index.get_level_values('release_date')\n",
    "df_tracks.dates=pd.to_datetime(df_tracks.dates)\n",
    "years=df_tracks.dates.dt.year"
   ]
  },
  {
   "cell_type": "markdown",
   "metadata": {
    "id": "yRFCTjy5j0Ud"
   },
   "source": [
    "## Distribution Plot to visualize the total number of songs in each year that is available on spotify in since 1922."
   ]
  },
  {
   "cell_type": "markdown",
   "metadata": {
    "id": "IiuzRbE_j0Ud"
   },
   "source": [
    "### Let's install the latest version of seaborn so that we have all the features available"
   ]
  },
  {
   "cell_type": "code",
   "execution_count": 26,
   "metadata": {
    "colab": {
     "base_uri": "https://localhost:8080/",
     "height": 381
    },
    "executionInfo": {
     "elapsed": 5244,
     "status": "ok",
     "timestamp": 1675097400802,
     "user": {
      "displayName": "Priyanshu Arora",
      "userId": "06663386538292336269"
     },
     "user_tz": -330
    },
    "id": "2he66VQZj0Ud",
    "outputId": "b8f2ae2d-34c9-4b51-d083-4b80f0d1456d"
   },
   "outputs": [
    {
     "name": "stdout",
     "output_type": "stream",
     "text": [
      "Requirement already satisfied: seaborn==0.11.0 in ./.local/lib/python3.9/site-packages (0.11.0)\n",
      "Requirement already satisfied: pandas>=0.23 in /opt/conda/lib/python3.9/site-packages (from seaborn==0.11.0) (1.3.4)\n",
      "Requirement already satisfied: numpy>=1.15 in /opt/conda/lib/python3.9/site-packages (from seaborn==0.11.0) (1.20.3)\n",
      "Requirement already satisfied: matplotlib>=2.2 in /opt/conda/lib/python3.9/site-packages (from seaborn==0.11.0) (3.4.3)\n",
      "Requirement already satisfied: scipy>=1.0 in /opt/conda/lib/python3.9/site-packages (from seaborn==0.11.0) (1.7.2)\n",
      "Requirement already satisfied: cycler>=0.10 in /opt/conda/lib/python3.9/site-packages (from matplotlib>=2.2->seaborn==0.11.0) (0.11.0)\n",
      "Requirement already satisfied: python-dateutil>=2.7 in /opt/conda/lib/python3.9/site-packages (from matplotlib>=2.2->seaborn==0.11.0) (2.8.2)\n",
      "Requirement already satisfied: pillow>=6.2.0 in /opt/conda/lib/python3.9/site-packages (from matplotlib>=2.2->seaborn==0.11.0) (8.3.2)\n",
      "Requirement already satisfied: kiwisolver>=1.0.1 in /opt/conda/lib/python3.9/site-packages (from matplotlib>=2.2->seaborn==0.11.0) (1.3.2)\n",
      "Requirement already satisfied: pyparsing>=2.2.1 in /opt/conda/lib/python3.9/site-packages (from matplotlib>=2.2->seaborn==0.11.0) (2.4.7)\n",
      "Requirement already satisfied: pytz>=2017.3 in /opt/conda/lib/python3.9/site-packages (from pandas>=0.23->seaborn==0.11.0) (2021.3)\n",
      "Requirement already satisfied: six>=1.5 in /opt/conda/lib/python3.9/site-packages (from python-dateutil>=2.7->matplotlib>=2.2->seaborn==0.11.0) (1.16.0)\n",
      "Note: you may need to restart the kernel to use updated packages.\n"
     ]
    }
   ],
   "source": [
    "pip install --user seaborn==0.11.0"
   ]
  },
  {
   "cell_type": "markdown",
   "metadata": {
    "id": "4S50VexWj0Ud"
   },
   "source": [
    "Creating a displot for finding out number of songs per year using seaborn"
   ]
  },
  {
   "cell_type": "code",
   "execution_count": 27,
   "metadata": {
    "colab": {
     "base_uri": "https://localhost:8080/",
     "height": 402
    },
    "executionInfo": {
     "elapsed": 763,
     "status": "ok",
     "timestamp": 1675097401552,
     "user": {
      "displayName": "Priyanshu Arora",
      "userId": "06663386538292336269"
     },
     "user_tz": -330
    },
    "id": "dD-yMZ1qj0Ud",
    "outputId": "cb151a52-692d-45ae-c1e9-0c23eeebfba3"
   },
   "outputs": [
    {
     "data": {
      "text/plain": [
       "<seaborn.axisgrid.FacetGrid at 0x7f7e8faaae20>"
      ]
     },
     "execution_count": 27,
     "metadata": {},
     "output_type": "execute_result"
    },
    {
     "data": {
      "image/png": "[encoded data removed]",
      "text/plain": [
       "<Figure size 720x360 with 1 Axes>"
      ]
     },
     "metadata": {
      "needs_background": "light"
     },
     "output_type": "display_data"
    }
   ],
   "source": [
    "sns.displot(years,discrete=True,aspect=2,height=5,kind='hist').set(title='Number of songs per year')"
   ]
  },
  {
   "cell_type": "markdown",
   "metadata": {
    "id": "ed0hZZDAj0Ud"
   },
   "source": [
    "Highest number of songs per year were for the year 2020."
   ]
  },
  {
   "cell_type": "code",
   "execution_count": null,
   "metadata": {
    "colab": {
     "base_uri": "https://localhost:8080/",
     "height": 165
    },
    "executionInfo": {
     "elapsed": 14,
     "status": "error",
     "timestamp": 1675097401553,
     "user": {
      "displayName": "Priyanshu Arora",
      "userId": "06663386538292336269"
     },
     "user_tz": -330
    },
    "id": "jmtBhNmYj0Ud",
    "outputId": "15e9996a-7099-4b1a-c475-1b49b6d0f78e"
   },
   "outputs": [
    {
     "data": {
      "application/javascript": [
       "window.require && require([\"base/js/namespace\"],function(Jupyter){Jupyter.notebook.save_checkpoint()})"
      ],
      "text/plain": [
       "<IPython.core.display.Javascript object>"
      ]
     },
     "metadata": {},
     "output_type": "display_data"
    }
   ],
   "source": [
    "jovian.commit()"
   ]
  },
  {
   "cell_type": "markdown",
   "metadata": {
    "id": "0UA1rN6Dj0Ue"
   },
   "source": [
    "## Plotting a barplot to find out duration of songs over the years."
   ]
  },
  {
   "cell_type": "markdown",
   "metadata": {
    "id": "WhTyNCqHj0Ue"
   },
   "source": [
    "plotting a barplot using seaborn between year and duration"
   ]
  },
  {
   "cell_type": "code",
   "execution_count": null,
   "metadata": {
    "colab": {
     "base_uri": "https://localhost:8080/",
     "height": 630
    },
    "executionInfo": {
     "elapsed": 10548,
     "status": "ok",
     "timestamp": 1675097450376,
     "user": {
      "displayName": "Priyanshu Arora",
      "userId": "06663386538292336269"
     },
     "user_tz": -330
    },
    "id": "d90QA2xnj0Ue",
    "outputId": "a1ccbc8d-6ef5-43dd-e354-c4d95256dc9e"
   },
   "outputs": [],
   "source": [
    "total_dr=df_tracks.duration\n",
    "fig,ax=plt.subplots(figsize=(18,7))\n",
    "fig=sns.barplot(x=years,y=total_dr,ax=ax,errwidth=False).set(title='Year vs Duration')\n",
    "plt.xticks(rotation=90)"
   ]
  },
  {
   "cell_type": "markdown",
   "metadata": {
    "id": "Ih_fTX6Qj0Ue"
   },
   "source": [
    "##  Line plot for average duration of songs over the years."
   ]
  },
  {
   "cell_type": "code",
   "execution_count": null,
   "metadata": {
    "id": "ap403w53j0Ue"
   },
   "outputs": [],
   "source": [
    "total_dr=df_tracks.duration\n",
    "sns.set_style(style='whitegrid')\n",
    "fig,ax=plt.subplots(figsize=(10,5))\n",
    "fig=sns.lineplot(x=years,y=total_dr,ax=ax).set(title='Year vs Duration')\n",
    "plt.xticks(rotation=60)"
   ]
  },
  {
   "cell_type": "code",
   "execution_count": null,
   "metadata": {
    "id": "QcgT7HhSj0Ue"
   },
   "outputs": [],
   "source": [
    "df_genre=pd.read_csv('ultimate-spotify-tracks-db/SpotifyFeatures.csv')"
   ]
  },
  {
   "cell_type": "markdown",
   "metadata": {
    "id": "Xd7FXtBVj0Ue"
   },
   "source": [
    "Using head() it will display Top 5 genres"
   ]
  },
  {
   "cell_type": "code",
   "execution_count": null,
   "metadata": {
    "id": "XLx5I3ksj0Ue"
   },
   "outputs": [],
   "source": [
    "df_genre.head()"
   ]
  },
  {
   "cell_type": "markdown",
   "metadata": {
    "id": "oDq3nJrhj0Uf"
   },
   "source": [
    "##  What is the duration of songs in different genres?"
   ]
  },
  {
   "cell_type": "code",
   "execution_count": null,
   "metadata": {
    "id": "ZOPszaX_j0Uf"
   },
   "outputs": [],
   "source": [
    "plt.title('Duration of the songs in different genres')\n",
    "sns.color_palette('rocket',as_cmap=True)\n",
    "sns.barplot(y='genre',x='duration_ms',data=df_genre)\n",
    "plt.xlabel('Duration in milli seconds')\n",
    "plt.ylabel('genres')"
   ]
  },
  {
   "cell_type": "markdown",
   "metadata": {
    "id": "QnBeUlxuj0Uf"
   },
   "source": [
    "## What are the top 5 Genres by popularity?"
   ]
  },
  {
   "cell_type": "code",
   "execution_count": null,
   "metadata": {
    "id": "ZMegR3mNj0Uf"
   },
   "outputs": [],
   "source": [
    "sns.set_style(style='darkgrid')\n",
    "plt.figure(figsize=(10,5))\n",
    "famous=df_genre.sort_values('popularity',ascending=False).head(10)\n",
    "sns.barplot(y='genre',x='popularity',data=famous).set(title='')"
   ]
  },
  {
   "cell_type": "markdown",
   "metadata": {
    "id": "Tk6szVzWj0Uf"
   },
   "source": [
    "We can see that 'Dance' is the most popular genre."
   ]
  },
  {
   "cell_type": "code",
   "execution_count": null,
   "metadata": {
    "id": "K47orb-Tj0Uf",
    "outputId": "e70dd3ce-25db-4894-fa33-cd1e591c9ca4"
   },
   "outputs": [],
   "source": [
    "jovian.commit()"
   ]
  },
  {
   "cell_type": "markdown",
   "metadata": {
    "id": "n9Nm32bgj0Uf"
   },
   "source": [
    "## Summary and Conclusion\n",
    "1. 60% of the 10 least popular songs were not english songs.\n",
    "2. There has been a continuous increase in the  number of songs available on spotify since 1920 till 2022.\n",
    "3. Average duration of the songs increased rapidly from 1920 to 1940.\n",
    "4. With time the interest of people and the amount to music listeners has been increased.\n",
    "5. Popularity and Acousticness have a very strong correlation.\n",
    "6. Highest duration for songs in milliseconds was for 'World'.\n"
   ]
  },
  {
   "cell_type": "markdown",
   "metadata": {
    "id": "DykaAQhvj0Ug"
   },
   "source": [
    "## References and Future work\n",
    "With the changing year, all these calculations can be changed quickly by alternating the varoius parameters.\n",
    "\n",
    "The graphs could be made clearer by setting the colours to the respective genres or years etc.\n",
    "\n",
    "At last I hope to make a song recommendation model using Machine Learning."
   ]
  },
  {
   "cell_type": "code",
   "execution_count": null,
   "metadata": {
    "colab": {
     "base_uri": "https://localhost:8080/",
     "height": 165
    },
    "executionInfo": {
     "elapsed": 14,
     "status": "error",
     "timestamp": 1675097017577,
     "user": {
      "displayName": "Priyanshu Arora",
      "userId": "06663386538292336269"
     },
     "user_tz": -330
    },
    "id": "tCvf7YZjj0Ug",
    "outputId": "a95a6b29-df07-4e9a-a303-d3484a032ba3"
   },
   "outputs": [],
   "source": [
    "jovian.commit()"
   ]
  },
  {
   "cell_type": "code",
   "execution_count": null,
   "metadata": {
    "id": "x8IOXcB4j0Ug"
   },
   "outputs": [],
   "source": []
  }
 ],
 "metadata": {
  "colab": {
   "provenance": [],
   "toc_visible": true
  },
  "kernelspec": {
   "display_name": "Python 3 (ipykernel)",
   "language": "python",
   "name": "python3"
  },
  "language_info": {
   "codemirror_mode": {
    "name": "ipython",
    "version": 3
   },
   "file_extension": ".py",
   "mimetype": "text/x-python",
   "name": "python",
   "nbconvert_exporter": "python",
   "pygments_lexer": "ipython3",
   "version": "3.9.7"
  }
 },
 "nbformat": 4,
 "nbformat_minor": 1
}
